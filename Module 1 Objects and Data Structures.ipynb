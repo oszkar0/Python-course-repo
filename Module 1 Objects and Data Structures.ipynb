{
 "cells": [
  {
   "cell_type": "code",
   "execution_count": 1,
   "id": "62bdc73e",
   "metadata": {},
   "outputs": [],
   "source": [
    "var_1 = 0.1"
   ]
  },
  {
   "cell_type": "code",
   "execution_count": 2,
   "id": "e3ad7035",
   "metadata": {},
   "outputs": [],
   "source": [
    "var_2 = 5"
   ]
  },
  {
   "cell_type": "code",
   "execution_count": 3,
   "id": "1881afeb",
   "metadata": {},
   "outputs": [
    {
     "data": {
      "text/plain": [
       "float"
      ]
     },
     "execution_count": 3,
     "metadata": {},
     "output_type": "execute_result"
    }
   ],
   "source": [
    "type(0.1)"
   ]
  },
  {
   "cell_type": "code",
   "execution_count": 4,
   "id": "6f851a03",
   "metadata": {},
   "outputs": [
    {
     "data": {
      "text/plain": [
       "float"
      ]
     },
     "execution_count": 4,
     "metadata": {},
     "output_type": "execute_result"
    }
   ],
   "source": [
    "type(var_1)"
   ]
  },
  {
   "cell_type": "code",
   "execution_count": 5,
   "id": "4239cef1",
   "metadata": {},
   "outputs": [
    {
     "data": {
      "text/plain": [
       "int"
      ]
     },
     "execution_count": 5,
     "metadata": {},
     "output_type": "execute_result"
    }
   ],
   "source": [
    "type(var_2)"
   ]
  },
  {
   "cell_type": "code",
   "execution_count": 6,
   "id": "0b9aaa5f",
   "metadata": {},
   "outputs": [
    {
     "name": "stdout",
     "output_type": "stream",
     "text": [
      "hello world\n"
     ]
    }
   ],
   "source": [
    "print(\"hello world\")"
   ]
  },
  {
   "cell_type": "code",
   "execution_count": 7,
   "id": "bf127cc2",
   "metadata": {},
   "outputs": [],
   "source": [
    "var_3 = \"hello i'm oskar\\n\""
   ]
  },
  {
   "cell_type": "code",
   "execution_count": 8,
   "id": "695cdf51",
   "metadata": {},
   "outputs": [
    {
     "data": {
      "text/plain": [
       "16"
      ]
     },
     "execution_count": 8,
     "metadata": {},
     "output_type": "execute_result"
    }
   ],
   "source": [
    "len(var_3)"
   ]
  },
  {
   "cell_type": "code",
   "execution_count": 10,
   "id": "27c039b3",
   "metadata": {},
   "outputs": [
    {
     "name": "stdout",
     "output_type": "stream",
     "text": [
      "l\n"
     ]
    }
   ],
   "source": [
    "print(var_3[2])"
   ]
  },
  {
   "cell_type": "code",
   "execution_count": 11,
   "id": "e194153e",
   "metadata": {},
   "outputs": [
    {
     "name": "stdout",
     "output_type": "stream",
     "text": [
      "r\n"
     ]
    }
   ],
   "source": [
    "print(var_3[-2])"
   ]
  },
  {
   "cell_type": "code",
   "execution_count": 12,
   "id": "f0ea3478",
   "metadata": {},
   "outputs": [],
   "source": [
    "var_4 = \"abcdefghijkl\""
   ]
  },
  {
   "cell_type": "code",
   "execution_count": 13,
   "id": "c2f5b39d",
   "metadata": {},
   "outputs": [
    {
     "name": "stdout",
     "output_type": "stream",
     "text": [
      "cdefghijkl\n"
     ]
    }
   ],
   "source": [
    "print(var_4[2:])"
   ]
  },
  {
   "cell_type": "code",
   "execution_count": 14,
   "id": "42d5ca07",
   "metadata": {},
   "outputs": [
    {
     "name": "stdout",
     "output_type": "stream",
     "text": [
      "abc\n"
     ]
    }
   ],
   "source": [
    "print(var_4[:3])"
   ]
  },
  {
   "cell_type": "code",
   "execution_count": 15,
   "id": "cb586595",
   "metadata": {},
   "outputs": [
    {
     "name": "stdout",
     "output_type": "stream",
     "text": [
      "cd\n"
     ]
    }
   ],
   "source": [
    "print(var_4[2:4])"
   ]
  },
  {
   "cell_type": "code",
   "execution_count": 16,
   "id": "5a7860a0",
   "metadata": {},
   "outputs": [
    {
     "data": {
      "text/plain": [
       "'bc'"
      ]
     },
     "execution_count": 16,
     "metadata": {},
     "output_type": "execute_result"
    }
   ],
   "source": [
    "var_4[1:3]"
   ]
  },
  {
   "cell_type": "code",
   "execution_count": 17,
   "id": "a42ed0c7",
   "metadata": {},
   "outputs": [
    {
     "data": {
      "text/plain": [
       "'abcdefghijkl'"
      ]
     },
     "execution_count": 17,
     "metadata": {},
     "output_type": "execute_result"
    }
   ],
   "source": [
    "var_4[::]"
   ]
  },
  {
   "cell_type": "code",
   "execution_count": 18,
   "id": "1037fc7d",
   "metadata": {},
   "outputs": [
    {
     "data": {
      "text/plain": [
       "'acegik'"
      ]
     },
     "execution_count": 18,
     "metadata": {},
     "output_type": "execute_result"
    }
   ],
   "source": [
    "var_4[::2]"
   ]
  },
  {
   "cell_type": "code",
   "execution_count": 19,
   "id": "6679b506",
   "metadata": {},
   "outputs": [
    {
     "data": {
      "text/plain": [
       "'lkjihgfedcba'"
      ]
     },
     "execution_count": 19,
     "metadata": {},
     "output_type": "execute_result"
    }
   ],
   "source": [
    "var_4[::-1]"
   ]
  },
  {
   "cell_type": "code",
   "execution_count": 20,
   "id": "aa70f5bf",
   "metadata": {},
   "outputs": [],
   "source": [
    "name = \"oskar\""
   ]
  },
  {
   "cell_type": "code",
   "execution_count": 22,
   "id": "657a2791",
   "metadata": {},
   "outputs": [
    {
     "ename": "TypeError",
     "evalue": "'str' object does not support item assignment",
     "output_type": "error",
     "traceback": [
      "\u001b[1;31m---------------------------------------------------------------------------\u001b[0m",
      "\u001b[1;31mTypeError\u001b[0m                                 Traceback (most recent call last)",
      "Cell \u001b[1;32mIn[22], line 1\u001b[0m\n\u001b[1;32m----> 1\u001b[0m name[\u001b[38;5;241m0\u001b[39m] \u001b[38;5;241m=\u001b[39m \u001b[38;5;124m'\u001b[39m\u001b[38;5;124mp\u001b[39m\u001b[38;5;124m'\u001b[39m\n",
      "\u001b[1;31mTypeError\u001b[0m: 'str' object does not support item assignment"
     ]
    }
   ],
   "source": [
    "name[0] = 'p'"
   ]
  },
  {
   "cell_type": "code",
   "execution_count": 23,
   "id": "47df748e",
   "metadata": {},
   "outputs": [],
   "source": [
    "new_name = 'p' + name[1:]"
   ]
  },
  {
   "cell_type": "code",
   "execution_count": 24,
   "id": "f8bc31a6",
   "metadata": {},
   "outputs": [
    {
     "name": "stdout",
     "output_type": "stream",
     "text": [
      "pskar\n"
     ]
    }
   ],
   "source": [
    "print(new_name)"
   ]
  },
  {
   "cell_type": "code",
   "execution_count": 25,
   "id": "c87ff05f",
   "metadata": {},
   "outputs": [],
   "source": [
    "x = \"hello world\""
   ]
  },
  {
   "cell_type": "code",
   "execution_count": 26,
   "id": "20c3adc3",
   "metadata": {},
   "outputs": [
    {
     "data": {
      "text/plain": [
       "'HELLO WORLD'"
      ]
     },
     "execution_count": 26,
     "metadata": {},
     "output_type": "execute_result"
    }
   ],
   "source": [
    "x.upper()"
   ]
  },
  {
   "cell_type": "code",
   "execution_count": 27,
   "id": "777cdfb5",
   "metadata": {},
   "outputs": [
    {
     "data": {
      "text/plain": [
       "['hello', 'world']"
      ]
     },
     "execution_count": 27,
     "metadata": {},
     "output_type": "execute_result"
    }
   ],
   "source": [
    "x.split()"
   ]
  },
  {
   "cell_type": "code",
   "execution_count": 28,
   "id": "64b3e6a9",
   "metadata": {},
   "outputs": [
    {
     "data": {
      "text/plain": [
       "['he', '', 'o wor', 'd']"
      ]
     },
     "execution_count": 28,
     "metadata": {},
     "output_type": "execute_result"
    }
   ],
   "source": [
    "x.split('l')"
   ]
  },
  {
   "cell_type": "code",
   "execution_count": 29,
   "id": "e6fde779",
   "metadata": {},
   "outputs": [
    {
     "name": "stdout",
     "output_type": "stream",
     "text": [
      "This is a string INSERTED\n"
     ]
    }
   ],
   "source": [
    "print('This is a string {}'.format(\"INSERTED\")) #inside of {} it pastes arguemnt"
   ]
  },
  {
   "cell_type": "code",
   "execution_count": 30,
   "id": "408c4f69",
   "metadata": {},
   "outputs": [
    {
     "name": "stdout",
     "output_type": "stream",
     "text": [
      "The Guy Robert Funny\n"
     ]
    }
   ],
   "source": [
    "print('The {2} {0} {1}'.format(\"Robert\", \"Funny\", \"Guy\"))"
   ]
  },
  {
   "cell_type": "code",
   "execution_count": 32,
   "id": "70f22fd2",
   "metadata": {},
   "outputs": [
    {
     "name": "stdout",
     "output_type": "stream",
     "text": [
      "The Oskar Szysiak 21\n"
     ]
    }
   ],
   "source": [
    "print('The {f} {q} {b}'.format(f=\"Oskar\", q=\"Szysiak\", b=21))"
   ]
  },
  {
   "cell_type": "code",
   "execution_count": 33,
   "id": "cd3bc8a8",
   "metadata": {},
   "outputs": [],
   "source": [
    "result = 221/23"
   ]
  },
  {
   "cell_type": "code",
   "execution_count": 34,
   "id": "6e32a45d",
   "metadata": {},
   "outputs": [
    {
     "name": "stdout",
     "output_type": "stream",
     "text": [
      "9.608695652173912\n"
     ]
    }
   ],
   "source": [
    "print(result)"
   ]
  },
  {
   "cell_type": "code",
   "execution_count": 35,
   "id": "079186b2",
   "metadata": {},
   "outputs": [
    {
     "name": "stdout",
     "output_type": "stream",
     "text": [
      "Result was 9.60870\n"
     ]
    }
   ],
   "source": [
    "print(\"Result was {r:2.5f}\".format(r=result)) #r:wifth:decimalnumbersf"
   ]
  },
  {
   "cell_type": "code",
   "execution_count": 37,
   "id": "97afccf8",
   "metadata": {},
   "outputs": [
    {
     "name": "stdout",
     "output_type": "stream",
     "text": [
      "Oskar abcdefghijkl\n"
     ]
    }
   ],
   "source": [
    "print(f'Oskar {var_4}') #works similar to .format"
   ]
  },
  {
   "cell_type": "code",
   "execution_count": 39,
   "id": "3c3c782b",
   "metadata": {},
   "outputs": [],
   "source": [
    "my_list = [\"helo\", 100, 20.1]"
   ]
  },
  {
   "cell_type": "code",
   "execution_count": 40,
   "id": "a3c0c2f5",
   "metadata": {},
   "outputs": [
    {
     "data": {
      "text/plain": [
       "3"
      ]
     },
     "execution_count": 40,
     "metadata": {},
     "output_type": "execute_result"
    }
   ],
   "source": [
    "len(my_list)"
   ]
  },
  {
   "cell_type": "code",
   "execution_count": 41,
   "id": "3caffd3a",
   "metadata": {},
   "outputs": [
    {
     "data": {
      "text/plain": [
       "100"
      ]
     },
     "execution_count": 41,
     "metadata": {},
     "output_type": "execute_result"
    }
   ],
   "source": [
    "my_list[1]"
   ]
  },
  {
   "cell_type": "code",
   "execution_count": 42,
   "id": "9ea342be",
   "metadata": {},
   "outputs": [
    {
     "data": {
      "text/plain": [
       "[100]"
      ]
     },
     "execution_count": 42,
     "metadata": {},
     "output_type": "execute_result"
    }
   ],
   "source": [
    "my_list[1:2]"
   ]
  },
  {
   "cell_type": "code",
   "execution_count": 44,
   "id": "b7e3e060",
   "metadata": {},
   "outputs": [],
   "source": [
    "another_list = [20, 21]"
   ]
  },
  {
   "cell_type": "code",
   "execution_count": 45,
   "id": "c1ca4ae6",
   "metadata": {},
   "outputs": [],
   "source": [
    "another_another_list = my_list + another_list"
   ]
  },
  {
   "cell_type": "code",
   "execution_count": 46,
   "id": "bf6c160d",
   "metadata": {},
   "outputs": [
    {
     "name": "stdout",
     "output_type": "stream",
     "text": [
      "['helo', 100, 20.1, 20, 21]\n"
     ]
    }
   ],
   "source": [
    "print(another_another_list)"
   ]
  },
  {
   "cell_type": "code",
   "execution_count": 47,
   "id": "080aba66",
   "metadata": {},
   "outputs": [],
   "source": [
    "another_another_list[0] = \"changed\""
   ]
  },
  {
   "cell_type": "code",
   "execution_count": 48,
   "id": "75f7cf44",
   "metadata": {},
   "outputs": [],
   "source": [
    "another_another_list.append(\"hey\")"
   ]
  },
  {
   "cell_type": "code",
   "execution_count": 49,
   "id": "73344fc3",
   "metadata": {},
   "outputs": [
    {
     "data": {
      "text/plain": [
       "'hey'"
      ]
     },
     "execution_count": 49,
     "metadata": {},
     "output_type": "execute_result"
    }
   ],
   "source": [
    "another_another_list.pop()"
   ]
  },
  {
   "cell_type": "code",
   "execution_count": 50,
   "id": "9ca28e7b",
   "metadata": {},
   "outputs": [
    {
     "data": {
      "text/plain": [
       "'changed'"
      ]
     },
     "execution_count": 50,
     "metadata": {},
     "output_type": "execute_result"
    }
   ],
   "source": [
    "another_another_list.pop(0)"
   ]
  },
  {
   "cell_type": "code",
   "execution_count": 51,
   "id": "04efd0a6",
   "metadata": {},
   "outputs": [],
   "source": [
    "new_list = ['a', 'e', 'b']\n",
    "num_list = [4,1,8,3]"
   ]
  },
  {
   "cell_type": "code",
   "execution_count": 52,
   "id": "bcc96310",
   "metadata": {},
   "outputs": [],
   "source": [
    "new_list.sort() #doesnt return "
   ]
  },
  {
   "cell_type": "code",
   "execution_count": 53,
   "id": "356d44a9",
   "metadata": {},
   "outputs": [
    {
     "name": "stdout",
     "output_type": "stream",
     "text": [
      "['a', 'b', 'e']\n"
     ]
    }
   ],
   "source": [
    "print(new_list)"
   ]
  },
  {
   "cell_type": "code",
   "execution_count": 54,
   "id": "a8485d09",
   "metadata": {},
   "outputs": [
    {
     "name": "stdout",
     "output_type": "stream",
     "text": [
      "[4, 1, 8, 3]\n",
      "[3, 8, 1, 4]\n"
     ]
    }
   ],
   "source": [
    "print(num_list)\n",
    "num_list.reverse()\n",
    "print(num_list)"
   ]
  },
  {
   "cell_type": "code",
   "execution_count": 55,
   "id": "fab58d8c",
   "metadata": {},
   "outputs": [],
   "source": [
    "my_dict = {\"oskar\": 21, \"robert\": 25}"
   ]
  },
  {
   "cell_type": "code",
   "execution_count": 56,
   "id": "6b561a11",
   "metadata": {},
   "outputs": [
    {
     "name": "stdout",
     "output_type": "stream",
     "text": [
      "25\n"
     ]
    }
   ],
   "source": [
    "print(my_dict['robert'])"
   ]
  },
  {
   "cell_type": "code",
   "execution_count": 57,
   "id": "a32a0ab9",
   "metadata": {},
   "outputs": [
    {
     "data": {
      "text/plain": [
       "dict_keys(['oskar', 'robert'])"
      ]
     },
     "execution_count": 57,
     "metadata": {},
     "output_type": "execute_result"
    }
   ],
   "source": [
    "my_dict.keys()"
   ]
  },
  {
   "cell_type": "code",
   "execution_count": 58,
   "id": "60c70865",
   "metadata": {},
   "outputs": [
    {
     "data": {
      "text/plain": [
       "dict_values([21, 25])"
      ]
     },
     "execution_count": 58,
     "metadata": {},
     "output_type": "execute_result"
    }
   ],
   "source": [
    "my_dict.values()"
   ]
  },
  {
   "cell_type": "code",
   "execution_count": 59,
   "id": "0d327532",
   "metadata": {},
   "outputs": [
    {
     "data": {
      "text/plain": [
       "dict_values([21, 25])"
      ]
     },
     "execution_count": 59,
     "metadata": {},
     "output_type": "execute_result"
    }
   ],
   "source": [
    "my_dict.values()"
   ]
  },
  {
   "cell_type": "code",
   "execution_count": 60,
   "id": "eb42e1f7",
   "metadata": {},
   "outputs": [],
   "source": [
    "tuple = (1,2,3)"
   ]
  },
  {
   "cell_type": "code",
   "execution_count": 61,
   "id": "e2faa316",
   "metadata": {},
   "outputs": [
    {
     "data": {
      "text/plain": [
       "tuple"
      ]
     },
     "execution_count": 61,
     "metadata": {},
     "output_type": "execute_result"
    }
   ],
   "source": [
    "type(tuple)"
   ]
  },
  {
   "cell_type": "code",
   "execution_count": 62,
   "id": "1f87f150",
   "metadata": {},
   "outputs": [
    {
     "data": {
      "text/plain": [
       "int"
      ]
     },
     "execution_count": 62,
     "metadata": {},
     "output_type": "execute_result"
    }
   ],
   "source": [
    "type(tuple[1])"
   ]
  },
  {
   "cell_type": "code",
   "execution_count": 63,
   "id": "6056c91f",
   "metadata": {},
   "outputs": [],
   "source": [
    "tuple = (1,2,3,4,1,1,2,3,4)"
   ]
  },
  {
   "cell_type": "code",
   "execution_count": 64,
   "id": "e56ee5ff",
   "metadata": {},
   "outputs": [
    {
     "data": {
      "text/plain": [
       "3"
      ]
     },
     "execution_count": 64,
     "metadata": {},
     "output_type": "execute_result"
    }
   ],
   "source": [
    "tuple.count(1)"
   ]
  },
  {
   "cell_type": "code",
   "execution_count": 65,
   "id": "2e46ed80",
   "metadata": {},
   "outputs": [
    {
     "ename": "TypeError",
     "evalue": "'tuple' object does not support item assignment",
     "output_type": "error",
     "traceback": [
      "\u001b[1;31m---------------------------------------------------------------------------\u001b[0m",
      "\u001b[1;31mTypeError\u001b[0m                                 Traceback (most recent call last)",
      "Cell \u001b[1;32mIn[65], line 1\u001b[0m\n\u001b[1;32m----> 1\u001b[0m \u001b[38;5;28mtuple\u001b[39m[\u001b[38;5;241m0\u001b[39m] \u001b[38;5;241m=\u001b[39m \u001b[38;5;241m1\u001b[39m\n",
      "\u001b[1;31mTypeError\u001b[0m: 'tuple' object does not support item assignment"
     ]
    }
   ],
   "source": [
    "tuple[0] = 1 #you cant change tuples"
   ]
  },
  {
   "cell_type": "code",
   "execution_count": 66,
   "id": "ed258900",
   "metadata": {},
   "outputs": [],
   "source": [
    "set = set()"
   ]
  },
  {
   "cell_type": "code",
   "execution_count": 67,
   "id": "acaf1461",
   "metadata": {},
   "outputs": [],
   "source": [
    "set.add(1)"
   ]
  },
  {
   "cell_type": "code",
   "execution_count": 68,
   "id": "40b1ffc3",
   "metadata": {},
   "outputs": [],
   "source": [
    "set.add(32)"
   ]
  },
  {
   "cell_type": "code",
   "execution_count": 69,
   "id": "e43924ab",
   "metadata": {},
   "outputs": [],
   "source": [
    "set.add(1) #set always has unique values! (unordered collections of unique elements)"
   ]
  },
  {
   "cell_type": "code",
   "execution_count": 70,
   "id": "426292f6",
   "metadata": {},
   "outputs": [
    {
     "name": "stdout",
     "output_type": "stream",
     "text": [
      "{32, 1}\n"
     ]
    }
   ],
   "source": [
    "print(set)"
   ]
  },
  {
   "cell_type": "code",
   "execution_count": 73,
   "id": "6c7c6327",
   "metadata": {},
   "outputs": [],
   "source": [
    "isGreater = 1 > 2"
   ]
  },
  {
   "cell_type": "code",
   "execution_count": 74,
   "id": "24c8e250",
   "metadata": {},
   "outputs": [
    {
     "name": "stdout",
     "output_type": "stream",
     "text": [
      "False\n"
     ]
    }
   ],
   "source": [
    "print(isGreater)"
   ]
  },
  {
   "cell_type": "code",
   "execution_count": 75,
   "id": "2e2a7ce7",
   "metadata": {},
   "outputs": [
    {
     "name": "stdout",
     "output_type": "stream",
     "text": [
      "Writing myfile.txt\n"
     ]
    }
   ],
   "source": [
    "%%writefile myfile.txt\n",
    "Hello this is a text file\n",
    "this is the second line\n",
    "this is the thord line"
   ]
  },
  {
   "cell_type": "code",
   "execution_count": 78,
   "id": "b52b1c46",
   "metadata": {},
   "outputs": [],
   "source": [
    "myfile = open(\"myfile.txt\")"
   ]
  },
  {
   "cell_type": "code",
   "execution_count": 79,
   "id": "4d4c7d94",
   "metadata": {},
   "outputs": [
    {
     "data": {
      "text/plain": [
       "'Hello this is a text file\\nthis is the second line\\nthis is the thord line\\n'"
      ]
     },
     "execution_count": 79,
     "metadata": {},
     "output_type": "execute_result"
    }
   ],
   "source": [
    "myfile.read() #cursor goes to the  end of file"
   ]
  },
  {
   "cell_type": "code",
   "execution_count": 80,
   "id": "88e4d6d3",
   "metadata": {},
   "outputs": [
    {
     "data": {
      "text/plain": [
       "0"
      ]
     },
     "execution_count": 80,
     "metadata": {},
     "output_type": "execute_result"
    }
   ],
   "source": [
    "myfile.seek(0)"
   ]
  },
  {
   "cell_type": "code",
   "execution_count": 81,
   "id": "b2c09b1d",
   "metadata": {},
   "outputs": [
    {
     "data": {
      "text/plain": [
       "0"
      ]
     },
     "execution_count": 81,
     "metadata": {},
     "output_type": "execute_result"
    }
   ],
   "source": [
    "myfile.read()\n",
    "myfile.seek(0)"
   ]
  },
  {
   "cell_type": "code",
   "execution_count": 82,
   "id": "6ef9a998",
   "metadata": {},
   "outputs": [
    {
     "data": {
      "text/plain": [
       "['Hello this is a text file\\n',\n",
       " 'this is the second line\\n',\n",
       " 'this is the thord line\\n']"
      ]
     },
     "execution_count": 82,
     "metadata": {},
     "output_type": "execute_result"
    }
   ],
   "source": [
    "myfile.readlines() #list of lines"
   ]
  },
  {
   "cell_type": "code",
   "execution_count": 83,
   "id": "b370106c",
   "metadata": {},
   "outputs": [],
   "source": [
    "#file = open(#path \"C:\\\\oskar\\\\....\")"
   ]
  },
  {
   "cell_type": "code",
   "execution_count": 84,
   "id": "29dca24a",
   "metadata": {},
   "outputs": [],
   "source": [
    "myfile.close() #important"
   ]
  },
  {
   "cell_type": "code",
   "execution_count": 85,
   "id": "32380e51",
   "metadata": {},
   "outputs": [],
   "source": [
    "with open(\"myfile.txt\") as my_new_file: #auto close of file\n",
    "    contents = my_new_file.read();"
   ]
  },
  {
   "cell_type": "code",
   "execution_count": 86,
   "id": "4b6e18ec",
   "metadata": {},
   "outputs": [
    {
     "name": "stdout",
     "output_type": "stream",
     "text": [
      "Hello this is a text file\n",
      "this is the second line\n",
      "this is the thord line\n",
      "\n"
     ]
    }
   ],
   "source": [
    "print(contents)"
   ]
  },
  {
   "cell_type": "code",
   "execution_count": 87,
   "id": "93c991ad",
   "metadata": {},
   "outputs": [],
   "source": [
    "#mode w-write r-read a-append w+ r+\n",
    "with open(\"myfile.txt\", mode = 'a') as my_file:\n",
    "    my_file.write(\"\\nappeneded line\\n\")\n",
    "    "
   ]
  },
  {
   "cell_type": "code",
   "execution_count": 91,
   "id": "87fec2bb",
   "metadata": {},
   "outputs": [
    {
     "name": "stdout",
     "output_type": "stream",
     "text": [
      "Hello this is a text file\n",
      "this is the second line\n",
      "this is the thord line\n",
      "\n",
      "appeneded line\n",
      "\n"
     ]
    }
   ],
   "source": [
    "with open(\"myfile.txt\", mode = 'r') as my_file:\n",
    "    print(my_file.read())"
   ]
  },
  {
   "cell_type": "code",
   "execution_count": null,
   "id": "c9ca768d",
   "metadata": {},
   "outputs": [],
   "source": []
  },
  {
   "cell_type": "code",
   "execution_count": null,
   "id": "57b9a9eb",
   "metadata": {},
   "outputs": [],
   "source": []
  },
  {
   "cell_type": "code",
   "execution_count": null,
   "id": "518e577b",
   "metadata": {},
   "outputs": [],
   "source": []
  },
  {
   "cell_type": "code",
   "execution_count": null,
   "id": "58be477b",
   "metadata": {},
   "outputs": [],
   "source": []
  }
 ],
 "metadata": {
  "kernelspec": {
   "display_name": "Python 3 (ipykernel)",
   "language": "python",
   "name": "python3"
  },
  "language_info": {
   "codemirror_mode": {
    "name": "ipython",
    "version": 3
   },
   "file_extension": ".py",
   "mimetype": "text/x-python",
   "name": "python",
   "nbconvert_exporter": "python",
   "pygments_lexer": "ipython3",
   "version": "3.11.3"
  }
 },
 "nbformat": 4,
 "nbformat_minor": 5
}
